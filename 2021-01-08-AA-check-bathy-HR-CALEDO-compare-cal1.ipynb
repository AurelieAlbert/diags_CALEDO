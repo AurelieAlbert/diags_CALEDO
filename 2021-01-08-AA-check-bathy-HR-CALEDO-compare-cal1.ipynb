{
 "cells": [
  {
   "cell_type": "code",
   "execution_count": 1,
   "metadata": {},
   "outputs": [
    {
     "data": {
      "text/html": [
       "<table style=\"border: 2px solid white;\">\n",
       "<tr>\n",
       "<td style=\"vertical-align: top; border: 0px solid white\">\n",
       "<h3 style=\"text-align: left;\">Client</h3>\n",
       "<ul style=\"text-align: left; list-style: none; margin: 0; padding: 0;\">\n",
       "  <li><b>Scheduler: </b>tcp://127.0.0.1:43967</li>\n",
       "  <li><b>Dashboard: </b><a href='http://127.0.0.1:8787/status' target='_blank'>http://127.0.0.1:8787/status</a></li>\n",
       "</ul>\n",
       "</td>\n",
       "<td style=\"vertical-align: top; border: 0px solid white\">\n",
       "<h3 style=\"text-align: left;\">Cluster</h3>\n",
       "<ul style=\"text-align: left; list-style:none; margin: 0; padding: 0;\">\n",
       "  <li><b>Workers: </b>2</li>\n",
       "  <li><b>Cores: </b>2</li>\n",
       "  <li><b>Memory: </b>8.39 GB</li>\n",
       "</ul>\n",
       "</td>\n",
       "</tr>\n",
       "</table>"
      ],
      "text/plain": [
       "<Client: 'tcp://127.0.0.1:43967' processes=2 threads=2, memory=8.39 GB>"
      ]
     },
     "execution_count": 1,
     "metadata": {},
     "output_type": "execute_result"
    }
   ],
   "source": [
    "from dask.distributed import Client\n",
    "c = Client()\n",
    "c\n"
   ]
  },
  {
   "cell_type": "code",
   "execution_count": 3,
   "metadata": {},
   "outputs": [
    {
     "name": "stderr",
     "output_type": "stream",
     "text": [
      "Matplotlib created a temporary config/cache directory at /tmp/matplotlib-m4b8tpfm because the default path (/home/jovyan/.cache/matplotlib) is not a writable directory; it is highly recommended to set the MPLCONFIGDIR environment variable to a writable directory, in particular to speed up the import of Matplotlib and to better support multiprocessing.\n"
     ]
    }
   ],
   "source": [
    "import xarray as xr\n",
    "from matplotlib import pyplot as plt\n",
    "import matplotlib.cm as cm\n",
    "import matplotlib.ticker as mticker\n",
    "import cartopy.crs as ccrs\n",
    "import cartopy.feature as cfeature\n",
    "from cartopy.mpl.gridliner import LONGITUDE_FORMATTER, LATITUDE_FORMATTER\n",
    "import numpy.ma as ma\n",
    "import numpy as np\n",
    "import cmocean\n",
    "\n",
    "%matplotlib inline"
   ]
  },
  {
   "cell_type": "code",
   "execution_count": 4,
   "metadata": {},
   "outputs": [],
   "source": [
    "dsbathy=xr.open_dataset('/mnt/meom/workdir/brodeau/data/bathy/GEBCO_2020/GEBCO_2020_box_Caledo_xl.nc4')\n",
    "bathy1=dsbathy['elevation']\n",
    "navlon1=dsbathy['lon']\n",
    "navlat1=dsbathy['lat']\n"
   ]
  },
  {
   "cell_type": "code",
   "execution_count": null,
   "metadata": {},
   "outputs": [
    {
     "name": "stderr",
     "output_type": "stream",
     "text": [
      "distributed.nanny - WARNING - Restarting worker\n",
      "distributed.nanny - WARNING - Worker exceeded 95% memory budget. Restarting\n",
      "distributed.nanny - WARNING - Restarting worker\n",
      "distributed.nanny - WARNING - Restarting worker\n"
     ]
    }
   ],
   "source": [
    "fig = plt.figure(figsize=(22,10))\n",
    "\n",
    "ax = fig.add_subplot(121,projection=ccrs.PlateCarree(central_longitude=-30))\n",
    "ax.autoscale(tight=True)\n",
    "pcolor=ax.pcolormesh(navlon1,navlat1,-1*bathy1,transform=ccrs.PlateCarree(),\n",
    "                     cmap=cmocean.cm.deep,vmin=0,vmax=8000)\n",
    "\n",
    "land_50m = cfeature.NaturalEarthFeature('physical', 'land', '50m',\n",
    "                                        edgecolor='black',\n",
    "                                        facecolor='grey')\n",
    "ax.add_feature(land_50m)\n",
    "gl=ax.gridlines(crs=ccrs.PlateCarree(), draw_labels=True,\n",
    "                  linewidth=2, color='gray', alpha=0.5, linestyle='--')\n",
    "gl.xlocator = mticker.FixedLocator(np.arange(-180,180,10))\n",
    "gl.ylocator = mticker.FixedLocator(np.arange(-80,80,5))\n",
    "gl.xformatter = LONGITUDE_FORMATTER\n",
    "gl.yformatter = LATITUDE_FORMATTER\n",
    "gl.xlabel_style = {'size': 15, 'color': 'gray'}\n",
    "gl.ylabel_style = {'size': 15, 'color': 'gray'}\n",
    "gl.ylabels_right = False\n",
    "gl.xlabels_top = False\n",
    "fig.subplots_adjust(right=0.8)\n",
    "\n",
    "cbar = plt.colorbar(pcolor,orientation='vertical',shrink=0.25,label='m')\n",
    "cbar.ax.tick_params(labelsize=15,color='gray')\n",
    "\n",
    "plt.title('CALEDO bathymetry GEBCO2020')\n",
    "plt.savefig('bathy_CALEDO_GEBCO2020.png', bbox_inches='tight')"
   ]
  },
  {
   "cell_type": "code",
   "execution_count": null,
   "metadata": {},
   "outputs": [],
   "source": [
    "dsbathy=xr.open_dataset('/mnt/meom/workdir/alberta/CALEDO/bathys/Bathy_entropie+gebco19around_finale.nc')\n",
    "bathy=dsbathy['bathymetry']\n",
    "navlon=dsbathy['lon']\n",
    "navlat=dsbathy['lat']\n"
   ]
  },
  {
   "cell_type": "code",
   "execution_count": null,
   "metadata": {},
   "outputs": [],
   "source": [
    "fig = plt.figure(figsize=(22,10))\n",
    "\n",
    "ax = fig.add_subplot(121,projection=ccrs.PlateCarree(central_longitude=-30))\n",
    "ax.autoscale(tight=True)\n",
    "pcolor=ax.pcolormesh(navlon,navlat,-1*bathy,transform=ccrs.PlateCarree(),\n",
    "                     cmap=cmocean.cm.deep,vmin=0,vmax=8000)\n",
    "\n",
    "land_50m = cfeature.NaturalEarthFeature('physical', 'land', '50m',\n",
    "                                        edgecolor='black',\n",
    "                                        facecolor='grey')\n",
    "ax.add_feature(land_50m)\n",
    "gl=ax.gridlines(crs=ccrs.PlateCarree(), draw_labels=True,\n",
    "                  linewidth=2, color='gray', alpha=0.5, linestyle='--')\n",
    "gl.xlocator = mticker.FixedLocator(np.arange(-180,180,10))\n",
    "gl.ylocator = mticker.FixedLocator(np.arange(-80,80,5))\n",
    "gl.xformatter = LONGITUDE_FORMATTER\n",
    "gl.yformatter = LATITUDE_FORMATTER\n",
    "gl.xlabel_style = {'size': 15, 'color': 'gray'}\n",
    "gl.ylabel_style = {'size': 15, 'color': 'gray'}\n",
    "gl.ylabels_right = False\n",
    "gl.xlabels_top = False\n",
    "fig.subplots_adjust(right=0.8)\n",
    "\n",
    "cbar = plt.colorbar(pcolor,orientation='vertical',shrink=0.25,label='m')\n",
    "cbar.ax.tick_params(labelsize=15,color='gray')\n",
    "\n",
    "plt.title('CALEDO bathymetry entropie+GEBCO2019')\n",
    "plt.savefig('bathy_CALEDO_entropie+GEBCO2019.png', bbox_inches='tight')"
   ]
  },
  {
   "cell_type": "code",
   "execution_count": null,
   "metadata": {},
   "outputs": [],
   "source": []
  }
 ],
 "metadata": {
  "kernelspec": {
   "display_name": "stat-comp",
   "language": "python",
   "name": "stat-comp"
  },
  "language_info": {
   "codemirror_mode": {
    "name": "ipython",
    "version": 3
   },
   "file_extension": ".py",
   "mimetype": "text/x-python",
   "name": "python",
   "nbconvert_exporter": "python",
   "pygments_lexer": "ipython3",
   "version": "3.6.11"
  }
 },
 "nbformat": 4,
 "nbformat_minor": 4
}
